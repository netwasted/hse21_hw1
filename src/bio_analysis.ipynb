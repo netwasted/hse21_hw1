{
  "nbformat": 4,
  "nbformat_minor": 0,
  "metadata": {
    "colab": {
      "name": "bio_analysis",
      "provenance": [],
      "collapsed_sections": []
    },
    "kernelspec": {
      "name": "python3",
      "display_name": "Python 3"
    },
    "language_info": {
      "name": "python"
    }
  },
  "cells": [
    {
      "cell_type": "markdown",
      "metadata": {
        "id": "idSvj5JF7J42"
      },
      "source": [
        "# Майнор биоинформатика 2 год #\n",
        "\n",
        "## Домашнее задание 1 ##\n",
        "\n",
        "### Колчина Анастасия 4 группа ###"
      ]
    },
    {
      "cell_type": "markdown",
      "metadata": {
        "id": "KjS2JfTu7T2A"
      },
      "source": [
        "## 2. Анализ данных ##"
      ]
    },
    {
      "cell_type": "code",
      "metadata": {
        "colab": {
          "base_uri": "https://localhost:8080/"
        },
        "id": "TG3TKMlX7B2i",
        "outputId": "dee145d2-3112-4c43-89ed-d0cc8baf0ad9"
      },
      "source": [
        "!pip install biopython"
      ],
      "execution_count": null,
      "outputs": [
        {
          "output_type": "stream",
          "name": "stdout",
          "text": [
            "Collecting biopython\n",
            "  Downloading biopython-1.79-cp37-cp37m-manylinux_2_5_x86_64.manylinux1_x86_64.whl (2.3 MB)\n",
            "\u001b[K     |████████████████████████████████| 2.3 MB 14.9 MB/s \n",
            "\u001b[?25hRequirement already satisfied: numpy in /usr/local/lib/python3.7/dist-packages (from biopython) (1.19.5)\n",
            "Installing collected packages: biopython\n",
            "Successfully installed biopython-1.79\n"
          ]
        }
      ]
    },
    {
      "cell_type": "code",
      "metadata": {
        "id": "YnosH8T84LtF"
      },
      "source": [
        "import Bio\n",
        "from Bio.Seq import Seq\n",
        "from Bio import SeqIO"
      ],
      "execution_count": null,
      "outputs": []
    },
    {
      "cell_type": "markdown",
      "metadata": {
        "id": "kFwu4tpI7gCN"
      },
      "source": [
        "### 2.1 Анализ контигов ###\n"
      ]
    },
    {
      "cell_type": "code",
      "metadata": {
        "colab": {
          "base_uri": "https://localhost:8080/"
        },
        "id": "bisGW8AN6_c8",
        "outputId": "00d717f2-f07b-4f55-d5ab-cfabb3616a41"
      },
      "source": [
        "!wget https://www.dropbox.com/s/magkpy1zde60x71/Poil_contig.fa"
      ],
      "execution_count": null,
      "outputs": [
        {
          "output_type": "stream",
          "name": "stdout",
          "text": [
            "--2021-10-27 13:37:58--  https://www.dropbox.com/s/magkpy1zde60x71/Poil_contig.fa\n",
            "Resolving www.dropbox.com (www.dropbox.com)... 162.125.65.18, 2620:100:6021:18::a27d:4112\n",
            "Connecting to www.dropbox.com (www.dropbox.com)|162.125.65.18|:443... connected.\n",
            "HTTP request sent, awaiting response... 301 Moved Permanently\n",
            "Location: /s/raw/magkpy1zde60x71/Poil_contig.fa [following]\n",
            "--2021-10-27 13:37:58--  https://www.dropbox.com/s/raw/magkpy1zde60x71/Poil_contig.fa\n",
            "Reusing existing connection to www.dropbox.com:443.\n",
            "HTTP request sent, awaiting response... 302 Found\n",
            "Location: https://ucb8fc6e1a70c4bc49ac109d41d6.dl.dropboxusercontent.com/cd/0/inline/BY0Q1ddkvuWYe8R5NHqyrhKcybfR3Yc9z_hRrDpiog7kCZ7A637leJZKGUmGjTb4Nxit3qfs6LxMw9Gijwa5XwTAFY009P7r9QvHaPZqK01wFO2Fh7Fxm63xDEf9_7TtJT0KZ-EKbru1bDDIcRcWYcOg/file# [following]\n",
            "--2021-10-27 13:37:58--  https://ucb8fc6e1a70c4bc49ac109d41d6.dl.dropboxusercontent.com/cd/0/inline/BY0Q1ddkvuWYe8R5NHqyrhKcybfR3Yc9z_hRrDpiog7kCZ7A637leJZKGUmGjTb4Nxit3qfs6LxMw9Gijwa5XwTAFY009P7r9QvHaPZqK01wFO2Fh7Fxm63xDEf9_7TtJT0KZ-EKbru1bDDIcRcWYcOg/file\n",
            "Resolving ucb8fc6e1a70c4bc49ac109d41d6.dl.dropboxusercontent.com (ucb8fc6e1a70c4bc49ac109d41d6.dl.dropboxusercontent.com)... 162.125.65.15, 2620:100:6021:15::a27d:410f\n",
            "Connecting to ucb8fc6e1a70c4bc49ac109d41d6.dl.dropboxusercontent.com (ucb8fc6e1a70c4bc49ac109d41d6.dl.dropboxusercontent.com)|162.125.65.15|:443... connected.\n",
            "HTTP request sent, awaiting response... 200 OK\n",
            "Length: 3990147 (3.8M) [text/plain]\n",
            "Saving to: ‘Poil_contig.fa.2’\n",
            "\n",
            "Poil_contig.fa.2    100%[===================>]   3.80M  4.46MB/s    in 0.9s    \n",
            "\n",
            "2021-10-27 13:38:00 (4.46 MB/s) - ‘Poil_contig.fa.2’ saved [3990147/3990147]\n",
            "\n"
          ]
        }
      ]
    },
    {
      "cell_type": "code",
      "metadata": {
        "colab": {
          "base_uri": "https://localhost:8080/"
        },
        "id": "YHlL7Qhl9QyL",
        "outputId": "a6eacdf8-5118-45df-a995-b38ada000a5b"
      },
      "source": [
        "recs = list(SeqIO.parse('Poil_contig.fa', 'fasta'))\n",
        "print('Общее количество контигов:', len(recs))"
      ],
      "execution_count": null,
      "outputs": [
        {
          "output_type": "stream",
          "name": "stdout",
          "text": [
            "Общее количество контигов: 626\n"
          ]
        }
      ]
    },
    {
      "cell_type": "code",
      "metadata": {
        "colab": {
          "base_uri": "https://localhost:8080/"
        },
        "id": "_E6btaLb9neY",
        "outputId": "af4fd205-d96d-4beb-843b-bcfac781e9c0"
      },
      "source": [
        "total_len = 0\n",
        "for rec in recs:\n",
        "    total_len += len(rec.seq)\n",
        "print('Общая длина контигов:', total_len)"
      ],
      "execution_count": null,
      "outputs": [
        {
          "output_type": "stream",
          "name": "stdout",
          "text": [
            "Общая длина контигов: 3926818\n"
          ]
        }
      ]
    },
    {
      "cell_type": "code",
      "metadata": {
        "colab": {
          "base_uri": "https://localhost:8080/"
        },
        "id": "2fcZZxlU-OTX",
        "outputId": "7b369ebc-7d6a-45a8-f98e-b7a16c85d9c1"
      },
      "source": [
        "lens = []\n",
        "for rec in recs:\n",
        "    lens.append(len(rec.seq))\n",
        "longest = max(lens)\n",
        "print('Длина самого длинного контига:', longest)"
      ],
      "execution_count": null,
      "outputs": [
        {
          "output_type": "stream",
          "name": "stdout",
          "text": [
            "Длина самого длинного контига: 135087\n"
          ]
        }
      ]
    },
    {
      "cell_type": "code",
      "metadata": {
        "colab": {
          "base_uri": "https://localhost:8080/"
        },
        "id": "2TejEoaPByGd",
        "outputId": "f1a5cc14-e6be-43c0-adbf-1958af3c7247"
      },
      "source": [
        "lens_sorted = sorted(lens, reverse=True)\n",
        "summ = 0\n",
        "N50 = 0\n",
        "for ln in lens_sorted:\n",
        "    summ += ln\n",
        "    if summ >= total_len / 2:\n",
        "        N50 = ln\n",
        "        break\n",
        "print('N50 =', N50)"
      ],
      "execution_count": null,
      "outputs": [
        {
          "output_type": "stream",
          "name": "stdout",
          "text": [
            "N50 = 52802\n"
          ]
        }
      ]
    },
    {
      "cell_type": "markdown",
      "metadata": {
        "id": "ZhG_y_Rb7nW6"
      },
      "source": [
        "### 2.2 Анализ скаффолдов ###"
      ]
    },
    {
      "cell_type": "code",
      "metadata": {
        "colab": {
          "base_uri": "https://localhost:8080/"
        },
        "id": "pXr1WowJ7rEz",
        "outputId": "6e9bb2da-880c-490e-8060-ddbb11891c5b"
      },
      "source": [
        "!wget https://www.dropbox.com/s/tvq1uufsjcs3f5x/Poil_scaffold.fa"
      ],
      "execution_count": null,
      "outputs": [
        {
          "output_type": "stream",
          "name": "stdout",
          "text": [
            "--2021-10-27 13:47:09--  https://www.dropbox.com/s/tvq1uufsjcs3f5x/Poil_scaffold.fa\n",
            "Resolving www.dropbox.com (www.dropbox.com)... 162.125.65.18, 2620:100:6020:18::a27d:4012\n",
            "Connecting to www.dropbox.com (www.dropbox.com)|162.125.65.18|:443... connected.\n",
            "HTTP request sent, awaiting response... 301 Moved Permanently\n",
            "Location: /s/raw/tvq1uufsjcs3f5x/Poil_scaffold.fa [following]\n",
            "--2021-10-27 13:47:09--  https://www.dropbox.com/s/raw/tvq1uufsjcs3f5x/Poil_scaffold.fa\n",
            "Reusing existing connection to www.dropbox.com:443.\n",
            "HTTP request sent, awaiting response... 302 Found\n",
            "Location: https://uc0e77ffff6239d499b7659db175.dl.dropboxusercontent.com/cd/0/inline/BY0dgfcVCOoG9z3kat5UM0QRUb2jr6zQTuLyDokbkqjFkqI5i7L0LjhXuYl0ovQd4BF99I6_pZBBSYOVu9uNwjbCIwQU_UUGmFYFCzwSK1leJC22r0XO3hMyS2pOiE44qYWQra46QvewWBbX03ljxLbG/file# [following]\n",
            "--2021-10-27 13:47:09--  https://uc0e77ffff6239d499b7659db175.dl.dropboxusercontent.com/cd/0/inline/BY0dgfcVCOoG9z3kat5UM0QRUb2jr6zQTuLyDokbkqjFkqI5i7L0LjhXuYl0ovQd4BF99I6_pZBBSYOVu9uNwjbCIwQU_UUGmFYFCzwSK1leJC22r0XO3hMyS2pOiE44qYWQra46QvewWBbX03ljxLbG/file\n",
            "Resolving uc0e77ffff6239d499b7659db175.dl.dropboxusercontent.com (uc0e77ffff6239d499b7659db175.dl.dropboxusercontent.com)... 162.125.65.15, 2620:100:6020:15::a27d:400f\n",
            "Connecting to uc0e77ffff6239d499b7659db175.dl.dropboxusercontent.com (uc0e77ffff6239d499b7659db175.dl.dropboxusercontent.com)|162.125.65.15|:443... connected.\n",
            "HTTP request sent, awaiting response... 200 OK\n",
            "Length: 3926710 (3.7M) [text/plain]\n",
            "Saving to: ‘Poil_scaffold.fa’\n",
            "\n",
            "Poil_scaffold.fa    100%[===================>]   3.74M  4.20MB/s    in 0.9s    \n",
            "\n",
            "2021-10-27 13:47:11 (4.20 MB/s) - ‘Poil_scaffold.fa’ saved [3926710/3926710]\n",
            "\n"
          ]
        }
      ]
    },
    {
      "cell_type": "code",
      "metadata": {
        "colab": {
          "base_uri": "https://localhost:8080/"
        },
        "id": "SoXJvxr_ASlo",
        "outputId": "ac4380c7-dea5-4975-f109-b3abdea6e611"
      },
      "source": [
        "recs = list(SeqIO.parse('Poil_scaffold.fa', 'fasta'))\n",
        "print('Общее количество скаффолдов:', len(recs))"
      ],
      "execution_count": null,
      "outputs": [
        {
          "output_type": "stream",
          "name": "stdout",
          "text": [
            "Общее количество скаффолдов: 74\n"
          ]
        }
      ]
    },
    {
      "cell_type": "code",
      "metadata": {
        "colab": {
          "base_uri": "https://localhost:8080/"
        },
        "id": "tbFIBnaFEiNo",
        "outputId": "39761285-1159-4ad7-9523-00231ab95138"
      },
      "source": [
        "total_len = 0\n",
        "for rec in recs:\n",
        "    total_len += len(rec.seq)\n",
        "print('Общая длина скаффолдов:', total_len)"
      ],
      "execution_count": null,
      "outputs": [
        {
          "output_type": "stream",
          "name": "stdout",
          "text": [
            "Общая длина скаффолдов: 3875854\n"
          ]
        }
      ]
    },
    {
      "cell_type": "code",
      "metadata": {
        "colab": {
          "base_uri": "https://localhost:8080/"
        },
        "id": "0EyxfGxnEiZj",
        "outputId": "22d36200-65e3-4deb-9262-1346e6d929a3"
      },
      "source": [
        "lens = []\n",
        "for rec in recs:\n",
        "    lens.append(len(rec.seq))\n",
        "longest = max(lens)\n",
        "print('Длина самого длинного скаффолда:', longest)"
      ],
      "execution_count": null,
      "outputs": [
        {
          "output_type": "stream",
          "name": "stdout",
          "text": [
            "Длина самого длинного скаффолда: 3831887\n"
          ]
        }
      ]
    },
    {
      "cell_type": "code",
      "metadata": {
        "colab": {
          "base_uri": "https://localhost:8080/"
        },
        "id": "5YIL1F7uEihU",
        "outputId": "585d4b0e-17cd-4c23-f7fe-730492fa02f6"
      },
      "source": [
        "lens_sorted = sorted(lens, reverse=True)\n",
        "summ = 0\n",
        "N50 = 0\n",
        "for ln in lens_sorted:\n",
        "    summ += ln\n",
        "    if summ >= total_len / 2:\n",
        "        N50 = ln\n",
        "        break\n",
        "print('N50 =', N50)"
      ],
      "execution_count": null,
      "outputs": [
        {
          "output_type": "stream",
          "name": "stdout",
          "text": [
            "N50 = 3831887\n"
          ]
        }
      ]
    },
    {
      "cell_type": "markdown",
      "metadata": {
        "id": "ttdZAiHNKyLU"
      },
      "source": [
        "### 2.3 Анализ гэпов ###"
      ]
    },
    {
      "cell_type": "markdown",
      "metadata": {
        "id": "IIB9dETpK6Iy"
      },
      "source": [
        "До ```platanus gap_close```:"
      ]
    },
    {
      "cell_type": "code",
      "metadata": {
        "colab": {
          "base_uri": "https://localhost:8080/"
        },
        "id": "MTEm2qpuPOXS",
        "outputId": "59451d77-8139-4233-9072-57ab2695e792"
      },
      "source": [
        "import re\n",
        "\n",
        "scaf = 0\n",
        "for rec in recs:\n",
        "    if len(rec.seq) == longest:\n",
        "        scaf = rec\n",
        "        break\n",
        "\n",
        "print('Количество гэпов:', re.sub(r'N{2,}', 'N', str(scaf.seq)).count(\"N\"))\n",
        "print('Общая длина гэпов:', str(scaf.seq).count(\"N\"))"
      ],
      "execution_count": null,
      "outputs": [
        {
          "output_type": "stream",
          "name": "stdout",
          "text": [
            "Количество гэпов: 61\n",
            "Общая длина гэпов: 6550\n"
          ]
        }
      ]
    },
    {
      "cell_type": "markdown",
      "metadata": {
        "id": "4LKoGteMLCC1"
      },
      "source": [
        "После ```platanus gap_close```:"
      ]
    },
    {
      "cell_type": "code",
      "metadata": {
        "colab": {
          "base_uri": "https://localhost:8080/"
        },
        "id": "ifJEnBExQlYg",
        "outputId": "d94154f8-ae94-4883-db1c-744c4de10f27"
      },
      "source": [
        "!wget https://www.dropbox.com/s/m7mca6w283xutij/Poil_gapClosed.fa"
      ],
      "execution_count": null,
      "outputs": [
        {
          "output_type": "stream",
          "name": "stdout",
          "text": [
            "--2021-10-27 14:59:31--  https://www.dropbox.com/s/m7mca6w283xutij/Poil_gapClosed.fa\n",
            "Resolving www.dropbox.com (www.dropbox.com)... 162.125.65.18, 2620:100:6020:18::a27d:4012\n",
            "Connecting to www.dropbox.com (www.dropbox.com)|162.125.65.18|:443... connected.\n",
            "HTTP request sent, awaiting response... 301 Moved Permanently\n",
            "Location: /s/raw/m7mca6w283xutij/Poil_gapClosed.fa [following]\n",
            "--2021-10-27 14:59:31--  https://www.dropbox.com/s/raw/m7mca6w283xutij/Poil_gapClosed.fa\n",
            "Reusing existing connection to www.dropbox.com:443.\n",
            "HTTP request sent, awaiting response... 302 Found\n",
            "Location: https://uc5a07a2bd19ceceacf89edc5fd1.dl.dropboxusercontent.com/cd/0/inline/BY3xbSueMG4XNyU_81mI1uw4cQgVYfVbwKda0BBLmrv1IIGlqNBYznPywNZCrjyMNHGgBmLswUVIMy2bqg2xpyybhduitPDBuyrJwdnES8qTZYg65IOAgsyoOuf2YpHlExhnjDvwEaWouu3jrmhNQEp2/file# [following]\n",
            "--2021-10-27 14:59:32--  https://uc5a07a2bd19ceceacf89edc5fd1.dl.dropboxusercontent.com/cd/0/inline/BY3xbSueMG4XNyU_81mI1uw4cQgVYfVbwKda0BBLmrv1IIGlqNBYznPywNZCrjyMNHGgBmLswUVIMy2bqg2xpyybhduitPDBuyrJwdnES8qTZYg65IOAgsyoOuf2YpHlExhnjDvwEaWouu3jrmhNQEp2/file\n",
            "Resolving uc5a07a2bd19ceceacf89edc5fd1.dl.dropboxusercontent.com (uc5a07a2bd19ceceacf89edc5fd1.dl.dropboxusercontent.com)... 162.125.65.15, 2620:100:6021:15::a27d:410f\n",
            "Connecting to uc5a07a2bd19ceceacf89edc5fd1.dl.dropboxusercontent.com (uc5a07a2bd19ceceacf89edc5fd1.dl.dropboxusercontent.com)|162.125.65.15|:443... connected.\n",
            "HTTP request sent, awaiting response... 200 OK\n",
            "Length: 3977716 (3.8M) [text/plain]\n",
            "Saving to: ‘Poil_gapClosed.fa’\n",
            "\n",
            "Poil_gapClosed.fa   100%[===================>]   3.79M  4.47MB/s    in 0.8s    \n",
            "\n",
            "2021-10-27 14:59:33 (4.47 MB/s) - ‘Poil_gapClosed.fa’ saved [3977716/3977716]\n",
            "\n"
          ]
        }
      ]
    },
    {
      "cell_type": "code",
      "metadata": {
        "colab": {
          "base_uri": "https://localhost:8080/"
        },
        "id": "xRzGXpOhLCKJ",
        "outputId": "72a4a6e7-ccd9-44a6-818a-99aed1da13cd"
      },
      "source": [
        "recs = list(SeqIO.parse('Poil_gapClosed.fa', 'fasta'))\n",
        "\n",
        "lens = []\n",
        "for rec in recs:\n",
        "    lens.append(len(rec.seq))\n",
        "longest = max(lens)\n",
        "\n",
        "scaf = 0\n",
        "for rec in recs:\n",
        "    if len(rec.seq) == longest:\n",
        "        scaf = rec\n",
        "        break\n",
        "\n",
        "print('Количество гэпов:', re.sub(r'N{2,}', 'N', str(scaf.seq)).count(\"N\"))\n",
        "print('Общая длина гэпов:', str(scaf.seq).count(\"N\"))"
      ],
      "execution_count": null,
      "outputs": [
        {
          "output_type": "stream",
          "name": "stdout",
          "text": [
            "Количество гэпов: 7\n",
            "Общая длина гэпов: 1698\n"
          ]
        }
      ]
    }
  ]
}